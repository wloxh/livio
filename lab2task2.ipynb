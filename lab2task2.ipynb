{
  "nbformat": 4,
  "nbformat_minor": 0,
  "metadata": {
    "colab": {
      "provenance": [],
      "authorship_tag": "ABX9TyNcBUb1wlnTassvwRu9wctI",
      "include_colab_link": true
    },
    "kernelspec": {
      "name": "python3",
      "display_name": "Python 3"
    },
    "language_info": {
      "name": "python"
    }
  },
  "cells": [
    {
      "cell_type": "markdown",
      "metadata": {
        "id": "view-in-github",
        "colab_type": "text"
      },
      "source": [
        "<a href=\"https://colab.research.google.com/github/wloxh/livio/blob/while_variant/lab2task2.ipynb\" target=\"_parent\"><img src=\"https://colab.research.google.com/assets/colab-badge.svg\" alt=\"Open In Colab\"/></a>"
      ]
    },
    {
      "cell_type": "code",
      "execution_count": 12,
      "metadata": {
        "id": "E339toQUo6Jz"
      },
      "outputs": [],
      "source": [
        "lista = [5, 5, 1, 0]\n",
        "\n"
      ]
    },
    {
      "cell_type": "code",
      "source": [
        "i = 0\n",
        "while (i < len(lista)):\n",
        "\n",
        "  print(lista[i])\n",
        "  i = i+1\n",
        "\n"
      ],
      "metadata": {
        "colab": {
          "base_uri": "https://localhost:8080/"
        },
        "id": "5N6Qhpa6seGb",
        "outputId": "777fd96c-8e92-4a97-abf4-2f45519c6c7b"
      },
      "execution_count": 23,
      "outputs": [
        {
          "output_type": "stream",
          "name": "stdout",
          "text": [
            "5\n",
            "5\n",
            "1\n",
            "0\n"
          ]
        }
      ]
    }
  ]
}